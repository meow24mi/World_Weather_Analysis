{
 "cells": [
  {
   "cell_type": "code",
   "execution_count": 2,
   "metadata": {},
   "outputs": [],
   "source": [
    "# Import the random module.\n",
    "import random\n",
    "# Import the NumPy module.\n",
    "import numpy as np\n",
    "# Import timeit.\n",
    "import timeit"
   ]
  },
  {
   "cell_type": "code",
   "execution_count": 3,
   "metadata": {},
   "outputs": [
    {
     "data": {
      "text/plain": [
       "-8"
      ]
     },
     "execution_count": 3,
     "metadata": {},
     "output_type": "execute_result"
    }
   ],
   "source": [
    "random.randint(-90,89)"
   ]
  },
  {
   "cell_type": "code",
   "execution_count": 4,
   "metadata": {},
   "outputs": [
    {
     "data": {
      "text/plain": [
       "-15.054816687466396"
      ]
     },
     "execution_count": 4,
     "metadata": {},
     "output_type": "execute_result"
    }
   ],
   "source": [
    "random_number=random.randint(-90,89) + random.random()\n",
    "random_number"
   ]
  },
  {
   "cell_type": "code",
   "execution_count": 5,
   "metadata": {},
   "outputs": [
    {
     "data": {
      "text/plain": [
       "23"
      ]
     },
     "execution_count": 5,
     "metadata": {},
     "output_type": "execute_result"
    }
   ],
   "source": [
    "random.randrange(-90, 90, step=1)"
   ]
  },
  {
   "cell_type": "code",
   "execution_count": 6,
   "metadata": {},
   "outputs": [
    {
     "data": {
      "text/plain": [
       "-40.22614762139483"
      ]
     },
     "execution_count": 6,
     "metadata": {},
     "output_type": "execute_result"
    }
   ],
   "source": [
    "random.uniform(-90, 90)"
   ]
  },
  {
   "cell_type": "code",
   "execution_count": 7,
   "metadata": {},
   "outputs": [
    {
     "data": {
      "text/plain": [
       "61.36053753030586"
      ]
     },
     "execution_count": 7,
     "metadata": {},
     "output_type": "execute_result"
    }
   ],
   "source": [
    "np.random.uniform(-90.000, 90.000)"
   ]
  },
  {
   "cell_type": "code",
   "execution_count": 8,
   "metadata": {},
   "outputs": [
    {
     "data": {
      "text/plain": [
       "array([-79.23118539,  29.0953451 ,  27.70465613, -76.44388507,\n",
       "       -25.18219464, -76.49795661, -19.83759817,  83.2931457 ,\n",
       "       -34.24163899,  54.66657263, -47.99710089,  82.67377205,\n",
       "       -32.58131817,  56.70240359, -89.86118118,   9.75007859,\n",
       "        -7.95350417,  14.85412058,  59.04542699, -56.04971681,\n",
       "       -53.7170369 ,  20.2808935 , -78.58930741,  89.39509345,\n",
       "       -27.8725551 ,  74.43776053,  21.18272373, -35.27194724,\n",
       "       -83.23957339,  81.49082238,  66.21117042,  56.76742113,\n",
       "       -44.51783006, -68.92698171,  62.94676042,  35.71292259,\n",
       "        89.57263126,  61.08460525, -30.91029875, -58.56742482,\n",
       "       -37.49496838, -54.59725732, -86.22311452,  75.72209239,\n",
       "       -77.89137197,  43.91018593, -11.94712652, -56.07404472,\n",
       "       -46.07027679,  59.13906381])"
      ]
     },
     "execution_count": 8,
     "metadata": {},
     "output_type": "execute_result"
    }
   ],
   "source": [
    "np.random.uniform(-90.000, 90.000, size=50)"
   ]
  },
  {
   "cell_type": "code",
   "execution_count": 9,
   "metadata": {},
   "outputs": [
    {
     "name": "stdout",
     "output_type": "stream",
     "text": [
      "14.7 µs ± 538 ns per loop (mean ± std. dev. of 7 runs, 100000 loops each)\n"
     ]
    }
   ],
   "source": [
    "%timeit np.random.uniform(-90.000, 90.000, size=1500)\n"
   ]
  },
  {
   "cell_type": "code",
   "execution_count": 17,
   "metadata": {},
   "outputs": [
    {
     "name": "stdout",
     "output_type": "stream",
     "text": [
      "2.12 ms ± 576 µs per loop (mean ± std. dev. of 7 runs, 1000 loops each)\n"
     ]
    }
   ],
   "source": [
    "def latitudes(size):\n",
    "    latitudes = []\n",
    "    x = 0\n",
    "    while x < (size):\n",
    "        random_lat = random.randint(-90, 90) + random.random()\n",
    "        latitudes.append(random_lat)\n",
    "        x += 1\n",
    "    return latitudes\n",
    "# Call the function with 1500.\n",
    "%timeit latitudes(1500)"
   ]
  },
  {
   "cell_type": "code",
   "execution_count": 18,
   "metadata": {},
   "outputs": [],
   "source": [
    "x = 1\n",
    "latitudes = []\n",
    "for latitude in range(0,1500):\n",
    "    random_lat = random.randint(-90, 89) + random.random()\n",
    "    latitudes.append(random_lat)\n",
    "%timeit    "
   ]
  },
  {
   "cell_type": "code",
   "execution_count": 21,
   "metadata": {},
   "outputs": [
    {
     "name": "stdout",
     "output_type": "stream",
     "text": [
      "[-69.19578718425264]\n",
      "[-69.19578718425264, -68.8614647198879]\n",
      "[-69.19578718425264, -68.8614647198879, 71.84720263160568]\n",
      "[-69.19578718425264, -68.8614647198879, 71.84720263160568, 50.741514834810175]\n",
      "[-69.19578718425264, -68.8614647198879, 71.84720263160568, 50.741514834810175, 53.62040906779026]\n",
      "[-69.19578718425264, -68.8614647198879, 71.84720263160568, 50.741514834810175, 53.62040906779026, 24.591047774397552]\n",
      "[-69.19578718425264, -68.8614647198879, 71.84720263160568, 50.741514834810175, 53.62040906779026, 24.591047774397552, -29.23886073175381]\n",
      "[-69.19578718425264, -68.8614647198879, 71.84720263160568, 50.741514834810175, 53.62040906779026, 24.591047774397552, -29.23886073175381, -44.207372327201334]\n",
      "[-69.19578718425264, -68.8614647198879, 71.84720263160568, 50.741514834810175, 53.62040906779026, 24.591047774397552, -29.23886073175381, -44.207372327201334, 31.414460091386346]\n",
      "[-69.19578718425264, -68.8614647198879, 71.84720263160568, 50.741514834810175, 53.62040906779026, 24.591047774397552, -29.23886073175381, -44.207372327201334, 31.414460091386346, 16.285886021555143]\n"
     ]
    }
   ],
   "source": [
    "x = 1\n",
    "latitudes = []\n",
    "while x < 11:\n",
    "    random_lat = random.randint(-90, 89) + random.random()\n",
    "    latitudes.append(random_lat)\n",
    "    x += 1\n",
    "    print(latitudes)"
   ]
  },
  {
   "cell_type": "code",
   "execution_count": null,
   "metadata": {},
   "outputs": [],
   "source": []
  }
 ],
 "metadata": {
  "kernelspec": {
   "display_name": "PythonData",
   "language": "python",
   "name": "pythondata"
  },
  "language_info": {
   "codemirror_mode": {
    "name": "ipython",
    "version": 3
   },
   "file_extension": ".py",
   "mimetype": "text/x-python",
   "name": "python",
   "nbconvert_exporter": "python",
   "pygments_lexer": "ipython3",
   "version": "3.7.9"
  }
 },
 "nbformat": 4,
 "nbformat_minor": 4
}
