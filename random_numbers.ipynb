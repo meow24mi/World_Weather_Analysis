{
 "cells": [
  {
   "cell_type": "code",
   "execution_count": 1,
   "metadata": {},
   "outputs": [],
   "source": [
    "# Import the random module.\n",
    "import random\n",
    "# Import the NumPy module.\n",
    "import numpy as np\n",
    "# Import timeit.\n",
    "import timeit"
   ]
  },
  {
   "cell_type": "code",
   "execution_count": 2,
   "metadata": {},
   "outputs": [
    {
     "data": {
      "text/plain": [
       "17"
      ]
     },
     "execution_count": 2,
     "metadata": {},
     "output_type": "execute_result"
    }
   ],
   "source": [
    "random.randint(-90,89)"
   ]
  },
  {
   "cell_type": "code",
   "execution_count": 3,
   "metadata": {},
   "outputs": [
    {
     "data": {
      "text/plain": [
       "-74.83231077672082"
      ]
     },
     "execution_count": 3,
     "metadata": {},
     "output_type": "execute_result"
    }
   ],
   "source": [
    "random_number=random.randint(-90,89) + random.random()\n",
    "random_number"
   ]
  },
  {
   "cell_type": "code",
   "execution_count": 4,
   "metadata": {},
   "outputs": [
    {
     "data": {
      "text/plain": [
       "2"
      ]
     },
     "execution_count": 4,
     "metadata": {},
     "output_type": "execute_result"
    }
   ],
   "source": [
    "random.randrange(-90, 90, step=1)"
   ]
  },
  {
   "cell_type": "code",
   "execution_count": 5,
   "metadata": {},
   "outputs": [
    {
     "data": {
      "text/plain": [
       "86.04643805690398"
      ]
     },
     "execution_count": 5,
     "metadata": {},
     "output_type": "execute_result"
    }
   ],
   "source": [
    "random.uniform(-90, 90)"
   ]
  },
  {
   "cell_type": "code",
   "execution_count": 6,
   "metadata": {},
   "outputs": [
    {
     "data": {
      "text/plain": [
       "-87.09515272440018"
      ]
     },
     "execution_count": 6,
     "metadata": {},
     "output_type": "execute_result"
    }
   ],
   "source": [
    "np.random.uniform(-90.000, 90.000)"
   ]
  },
  {
   "cell_type": "code",
   "execution_count": 7,
   "metadata": {},
   "outputs": [
    {
     "data": {
      "text/plain": [
       "array([ 54.67072486,  22.89662464, -16.04414157,  60.95595245,\n",
       "        35.48878039,  36.99635534,  41.68279269,  29.88279744,\n",
       "        29.78340807, -27.72449581,  35.09737293, -79.78467524,\n",
       "        31.58474471, -81.10040783, -72.42122721,  62.14915404,\n",
       "        78.00812908,  75.76812388,  57.91168138, -80.17567754,\n",
       "        43.60058178, -29.89601045, -28.21353597,  32.33756571,\n",
       "        53.23557523,  -3.11937504, -65.62976288,  87.15079515,\n",
       "       -23.40552175,  -0.14993311,  69.98449651,  -0.98580547,\n",
       "       -85.37237965, -40.00480098, -31.56094345,  61.72359677,\n",
       "       -30.06368631,  24.62053604,  18.56237781,  25.12161915,\n",
       "       -71.28671955,  -2.25808433,  71.27144632, -22.31623234,\n",
       "        20.27766014,   5.81303173,  32.7936491 , -41.80712329,\n",
       "        55.30494113,  61.28656049])"
      ]
     },
     "execution_count": 7,
     "metadata": {},
     "output_type": "execute_result"
    }
   ],
   "source": [
    "np.random.uniform(-90.000, 90.000, size=50)"
   ]
  },
  {
   "cell_type": "code",
   "execution_count": 8,
   "metadata": {},
   "outputs": [
    {
     "name": "stdout",
     "output_type": "stream",
     "text": [
      "15 µs ± 606 ns per loop (mean ± std. dev. of 7 runs, 100000 loops each)\n"
     ]
    }
   ],
   "source": [
    "%timeit np.random.uniform(-90.000, 90.000, size=1500)\n"
   ]
  },
  {
   "cell_type": "code",
   "execution_count": 9,
   "metadata": {},
   "outputs": [
    {
     "name": "stdout",
     "output_type": "stream",
     "text": [
      "1.8 ms ± 29.4 µs per loop (mean ± std. dev. of 7 runs, 100 loops each)\n"
     ]
    }
   ],
   "source": [
    "def latitudes(size):\n",
    "    latitudes = []\n",
    "    x = 0\n",
    "    while x < (size):\n",
    "        random_lat = random.randint(-90, 90) + random.random()\n",
    "        latitudes.append(random_lat)\n",
    "        x += 1\n",
    "    return latitudes\n",
    "# Call the function with 1500.\n",
    "%timeit latitudes(1500)"
   ]
  },
  {
   "cell_type": "code",
   "execution_count": 10,
   "metadata": {},
   "outputs": [],
   "source": [
    "x = 1\n",
    "latitudes = []\n",
    "for latitude in range(0,1500):\n",
    "    random_lat = random.randint(-90, 89) + random.random()\n",
    "    latitudes.append(random_lat)\n",
    "%timeit    "
   ]
  },
  {
   "cell_type": "code",
   "execution_count": 11,
   "metadata": {},
   "outputs": [
    {
     "name": "stdout",
     "output_type": "stream",
     "text": [
      "[51.40064922070449]\n",
      "[51.40064922070449, 59.77522264410578]\n",
      "[51.40064922070449, 59.77522264410578, -18.46695499276757]\n",
      "[51.40064922070449, 59.77522264410578, -18.46695499276757, -67.69559488958205]\n",
      "[51.40064922070449, 59.77522264410578, -18.46695499276757, -67.69559488958205, -34.102815892360155]\n",
      "[51.40064922070449, 59.77522264410578, -18.46695499276757, -67.69559488958205, -34.102815892360155, -9.397298689101383]\n",
      "[51.40064922070449, 59.77522264410578, -18.46695499276757, -67.69559488958205, -34.102815892360155, -9.397298689101383, 63.94079604550241]\n",
      "[51.40064922070449, 59.77522264410578, -18.46695499276757, -67.69559488958205, -34.102815892360155, -9.397298689101383, 63.94079604550241, -66.65781747626521]\n",
      "[51.40064922070449, 59.77522264410578, -18.46695499276757, -67.69559488958205, -34.102815892360155, -9.397298689101383, 63.94079604550241, -66.65781747626521, -50.97283591190459]\n",
      "[51.40064922070449, 59.77522264410578, -18.46695499276757, -67.69559488958205, -34.102815892360155, -9.397298689101383, 63.94079604550241, -66.65781747626521, -50.97283591190459, -81.92433032631936]\n"
     ]
    }
   ],
   "source": [
    "x = 1\n",
    "latitudes = []\n",
    "while x < 11:\n",
    "    random_lat = random.randint(-90, 89) + random.random()\n",
    "    latitudes.append(random_lat)\n",
    "    x += 1\n",
    "    print(latitudes)"
   ]
  },
  {
   "cell_type": "code",
   "execution_count": null,
   "metadata": {},
   "outputs": [],
   "source": []
  }
 ],
 "metadata": {
  "kernelspec": {
   "display_name": "PythonData",
   "language": "python",
   "name": "pythondata"
  },
  "language_info": {
   "codemirror_mode": {
    "name": "ipython",
    "version": 3
   },
   "file_extension": ".py",
   "mimetype": "text/x-python",
   "name": "python",
   "nbconvert_exporter": "python",
   "pygments_lexer": "ipython3",
   "version": "3.7.9"
  }
 },
 "nbformat": 4,
 "nbformat_minor": 4
}
